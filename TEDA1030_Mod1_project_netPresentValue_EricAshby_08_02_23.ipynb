{
  "nbformat": 4,
  "nbformat_minor": 0,
  "metadata": {
    "colab": {
      "provenance": [],
      "authorship_tag": "ABX9TyPYidsXbR/YF06KlHp/f234",
      "include_colab_link": true
    },
    "kernelspec": {
      "name": "python3",
      "display_name": "Python 3"
    },
    "language_info": {
      "name": "python"
    }
  },
  "cells": [
    {
      "cell_type": "markdown",
      "metadata": {
        "id": "view-in-github",
        "colab_type": "text"
      },
      "source": [
        "<a href=\"https://colab.research.google.com/github/EricAshby/Net-Present-Value-Calculator/blob/main/TEDA1030_Mod1_project_netPresentValue_EricAshby_08_02_23.ipynb\" target=\"_parent\"><img src=\"https://colab.research.google.com/assets/colab-badge.svg\" alt=\"Open In Colab\"/></a>"
      ]
    },
    {
      "cell_type": "code",
      "execution_count": null,
      "metadata": {
        "colab": {
          "base_uri": "https://localhost:8080/"
        },
        "id": "3t9ujf607_ay",
        "outputId": "3026a69b-540a-4b60-d6b7-035e31002a2c"
      },
      "outputs": [
        {
          "output_type": "stream",
          "name": "stdout",
          "text": [
            "\n",
            "\n",
            "Enter principal amount:  1000\n",
            "Enter interest rate (in percentage):  12\n",
            "Enter time period (in years):  40\n",
            "\n",
            "\n",
            "Principal: $1000.0\n",
            "Interest Rate: 12.0% per year\n",
            "Time Period: 40.0 year(s)\n",
            "- - - - - - - - - -\n",
            "Interest: $4800.0\n",
            "Net Present Value: $5800.0\n",
            "\n"
          ]
        }
      ],
      "source": [
        "#Net Present Value Calculator\n",
        "#using simple interest\n",
        "\n",
        "#define function for asking a question and receiving an answer from user\n",
        "def QueryUser(query_string:str):\n",
        "    response = input(query_string + \":  \")\n",
        "    return float(response)\n",
        "\n",
        "#define query_strings\n",
        "principal_query = \"Enter principal amount\"\n",
        "interest_rate_query = \"Enter interest rate (in percentage)\"\n",
        "time_period_query = \"Enter time period (in years)\"\n",
        "\n",
        "#spacer\n",
        "print(\"\\n\")\n",
        "\n",
        "# user defines principal, interest rate, and time period\n",
        "principal = QueryUser(principal_query)\n",
        "interest_rate_percent = QueryUser(interest_rate_query)\n",
        "interest_rate = interest_rate_percent / 100 # keeping interest_rate_percent separate so it can be used later in results output\n",
        "time_period = QueryUser(time_period_query)\n",
        "\n",
        "#calculate interest and net present value\n",
        "interest = principal * interest_rate * time_period\n",
        "net_present_value = principal + interest\n",
        "\n",
        "#spacer\n",
        "print(\"\\n\")\n",
        "\n",
        "#results\n",
        "print(\"Principal: $\" + str(round(principal,2)))  # note: + and str() are used here to gain better control of spacing in the output\n",
        "print(\"Interest Rate: \" + str(interest_rate_percent) + \"% per year\")\n",
        "print(\"Time Period: \" + str(time_period) + \" year(s)\")\n",
        "print(\"- - - - - - - - - -\")\n",
        "print(\"Interest: $\" + str(round(interest,2)))\n",
        "print(\"Net Present Value: $\" + str(net_present_value) + \"\\n\")"
      ]
    }
  ]
}